{
 "cells": [
  {
   "cell_type": "code",
   "execution_count": 2,
   "id": "bc98d345",
   "metadata": {},
   "outputs": [],
   "source": [
    "import bamboolib as bam #easy to do data manipulation and highly recommend going to https://bamboolib.8080labs.com/ and that will help you follow along\n",
    "import pandas as pd #data manipulation\n",
    "import matplotlib.pyplot as plt\n",
    "import numpy as np"
   ]
  },
  {
   "cell_type": "markdown",
   "id": "fca7784a",
   "metadata": {},
   "source": [
    "\n",
    "Read the csv file and give a name for all the columns"
   ]
  },
  {
   "cell_type": "code",
   "execution_count": 3,
   "id": "3506ae81",
   "metadata": {},
   "outputs": [
    {
     "name": "stdout",
     "output_type": "stream",
     "text": [
      "\n",
      "Original file:\n",
      "       39         State-gov   77516  Bachelors  13       Never-married  \\\n",
      "0      50  Self-emp-not-inc   83311  Bachelors  13  Married-civ-spouse   \n",
      "1      38           Private  215646    HS-grad   9            Divorced   \n",
      "2      53           Private  234721       11th   7  Married-civ-spouse   \n",
      "3      28           Private  338409  Bachelors  13  Married-civ-spouse   \n",
      "4      37           Private  284582    Masters  14  Married-civ-spouse   \n",
      "...    ..               ...     ...        ...  ..                 ...   \n",
      "48836  39           Private  215419  Bachelors  13            Divorced   \n",
      "48837  64                 ?  321403    HS-grad   9             Widowed   \n",
      "48838  38           Private  374983  Bachelors  13  Married-civ-spouse   \n",
      "48839  44           Private   83891  Bachelors  13            Divorced   \n",
      "48840  35      Self-emp-inc  182148  Bachelors  13  Married-civ-spouse   \n",
      "\n",
      "            Adm-clerical   Not-in-family               White    Male  2174  0  \\\n",
      "0        Exec-managerial         Husband               White    Male     0  0   \n",
      "1      Handlers-cleaners   Not-in-family               White    Male     0  0   \n",
      "2      Handlers-cleaners         Husband               Black    Male     0  0   \n",
      "3         Prof-specialty            Wife               Black  Female     0  0   \n",
      "4        Exec-managerial            Wife               White  Female     0  0   \n",
      "...                  ...             ...                 ...     ...   ... ..   \n",
      "48836     Prof-specialty   Not-in-family               White  Female     0  0   \n",
      "48837                  ?  Other-relative               Black    Male     0  0   \n",
      "48838     Prof-specialty         Husband               White    Male     0  0   \n",
      "48839       Adm-clerical       Own-child  Asian-Pac-Islander    Male  5455  0   \n",
      "48840    Exec-managerial         Husband               White    Male     0  0   \n",
      "\n",
      "       40  United-States  <=50K  \n",
      "0      13  United-States  <=50K  \n",
      "1      40  United-States  <=50K  \n",
      "2      40  United-States  <=50K  \n",
      "3      40           Cuba  <=50K  \n",
      "4      40  United-States  <=50K  \n",
      "...    ..            ...    ...  \n",
      "48836  36  United-States  <=50K  \n",
      "48837  40  United-States  <=50K  \n",
      "48838  50  United-States  <=50K  \n",
      "48839  40  United-States  <=50K  \n",
      "48840  60  United-States   >50K  \n",
      "\n",
      "[48841 rows x 15 columns]\n",
      "\n",
      "Modified file:\n",
      "       age         workclass  fnlwgt  education  education-num  \\\n",
      "0       50  Self-emp-not-inc   83311  Bachelors             13   \n",
      "1       38           Private  215646    HS-grad              9   \n",
      "2       53           Private  234721       11th              7   \n",
      "3       28           Private  338409  Bachelors             13   \n",
      "4       37           Private  284582    Masters             14   \n",
      "...    ...               ...     ...        ...            ...   \n",
      "48836   39           Private  215419  Bachelors             13   \n",
      "48837   64                 ?  321403    HS-grad              9   \n",
      "48838   38           Private  374983  Bachelors             13   \n",
      "48839   44           Private   83891  Bachelors             13   \n",
      "48840   35      Self-emp-inc  182148  Bachelors             13   \n",
      "\n",
      "           marital-status         occupation    relationship  \\\n",
      "0      Married-civ-spouse    Exec-managerial         Husband   \n",
      "1                Divorced  Handlers-cleaners   Not-in-family   \n",
      "2      Married-civ-spouse  Handlers-cleaners         Husband   \n",
      "3      Married-civ-spouse     Prof-specialty            Wife   \n",
      "4      Married-civ-spouse    Exec-managerial            Wife   \n",
      "...                   ...                ...             ...   \n",
      "48836            Divorced     Prof-specialty   Not-in-family   \n",
      "48837             Widowed                  ?  Other-relative   \n",
      "48838  Married-civ-spouse     Prof-specialty         Husband   \n",
      "48839            Divorced       Adm-clerical       Own-child   \n",
      "48840  Married-civ-spouse    Exec-managerial         Husband   \n",
      "\n",
      "                     race     sex  capital-gain  capital-loss  hours-per-week  \\\n",
      "0                   White    Male             0             0              13   \n",
      "1                   White    Male             0             0              40   \n",
      "2                   Black    Male             0             0              40   \n",
      "3                   Black  Female             0             0              40   \n",
      "4                   White  Female             0             0              40   \n",
      "...                   ...     ...           ...           ...             ...   \n",
      "48836               White  Female             0             0              36   \n",
      "48837               Black    Male             0             0              40   \n",
      "48838               White    Male             0             0              50   \n",
      "48839  Asian-Pac-Islander    Male          5455             0              40   \n",
      "48840               White    Male             0             0              60   \n",
      "\n",
      "      native-country Salary  \n",
      "0      United-States  <=50K  \n",
      "1      United-States  <=50K  \n",
      "2      United-States  <=50K  \n",
      "3               Cuba  <=50K  \n",
      "4      United-States  <=50K  \n",
      "...              ...    ...  \n",
      "48836  United-States  <=50K  \n",
      "48837  United-States  <=50K  \n",
      "48838  United-States  <=50K  \n",
      "48839  United-States  <=50K  \n",
      "48840  United-States   >50K  \n",
      "\n",
      "[48841 rows x 15 columns]\n"
     ]
    }
   ],
   "source": [
    "df = pd.read_csv(r'C:\\Users\\sreed\\Downloads\\adult-all.csv')\n",
    "print(\"\\nOriginal file:\")\n",
    "print(df)\n",
    "\n",
    "header_list = ['age','workclass','fnlwgt','education','education-num',\n",
    "               'marital-status','occupation','relationship','race','sex','capital-gain',\n",
    "               'capital-loss','hours-per-week','native-country','Salary']\n",
    "df.to_csv('adult.csv', header= header_list, index=False) # save to new csv file\n",
    "\n",
    "\n",
    "adult = pd.read_csv('adult.csv')\n",
    "print('\\nModified file:')\n",
    "print(adult)\n"
   ]
  },
  {
   "cell_type": "markdown",
   "id": "98bcf93f",
   "metadata": {},
   "source": [
    "Data exploration"
   ]
  },
  {
   "cell_type": "code",
   "execution_count": 4,
   "id": "c31eaf3e",
   "metadata": {},
   "outputs": [],
   "source": [
    "df = pd.read_csv(r\"adult.csv\")\n",
    "ad = pd.read_csv(r\"adult.csv\")\n"
   ]
  },
  {
   "cell_type": "code",
   "execution_count": 5,
   "id": "9f9cd955",
   "metadata": {
    "scrolled": true
   },
   "outputs": [
    {
     "data": {
      "application/vnd.jupyter.widget-view+json": {
       "model_id": "776e74d14c9d491c890029d2a704a3c5"
      },
      "text/plain": [
       "       age         workclass  fnlwgt  education  education-num  \\\n",
       "0       50  Self-emp-not-inc   83311  Bachelors             13   \n",
       "1       38           Private  215646    HS-grad              9   \n",
       "2       53           Private  234721       11th              7   \n",
       "3       28           Private  338409  Bachelors             13   \n",
       "4       37           Private  284582    Masters             14   \n",
       "...    ...               ...     ...        ...            ...   \n",
       "48836   39           Private  215419  Bachelors             13   \n",
       "48837   64                 ?  321403    HS-grad              9   \n",
       "48838   38           Private  374983  Bachelors             13   \n",
       "48839   44           Private   83891  Bachelors             13   \n",
       "48840   35      Self-emp-inc  182148  Bachelors             13   \n",
       "\n",
       "           marital-status         occupation    relationship  \\\n",
       "0      Married-civ-spouse    Exec-managerial         Husband   \n",
       "1                Divorced  Handlers-cleaners   Not-in-family   \n",
       "2      Married-civ-spouse  Handlers-cleaners         Husband   \n",
       "3      Married-civ-spouse     Prof-specialty            Wife   \n",
       "4      Married-civ-spouse    Exec-managerial            Wife   \n",
       "...                   ...                ...             ...   \n",
       "48836            Divorced     Prof-specialty   Not-in-family   \n",
       "48837             Widowed                  ?  Other-relative   \n",
       "48838  Married-civ-spouse     Prof-specialty         Husband   \n",
       "48839            Divorced       Adm-clerical       Own-child   \n",
       "48840  Married-civ-spouse    Exec-managerial         Husband   \n",
       "\n",
       "                     race     sex  capital-gain  capital-loss  hours-per-week  \\\n",
       "0                   White    Male             0             0              13   \n",
       "1                   White    Male             0             0              40   \n",
       "2                   Black    Male             0             0              40   \n",
       "3                   Black  Female             0             0              40   \n",
       "4                   White  Female             0             0              40   \n",
       "...                   ...     ...           ...           ...             ...   \n",
       "48836               White  Female             0             0              36   \n",
       "48837               Black    Male             0             0              40   \n",
       "48838               White    Male             0             0              50   \n",
       "48839  Asian-Pac-Islander    Male          5455             0              40   \n",
       "48840               White    Male             0             0              60   \n",
       "\n",
       "      native-country Salary  \n",
       "0      United-States  <=50K  \n",
       "1      United-States  <=50K  \n",
       "2      United-States  <=50K  \n",
       "3               Cuba  <=50K  \n",
       "4      United-States  <=50K  \n",
       "...              ...    ...  \n",
       "48836  United-States  <=50K  \n",
       "48837  United-States  <=50K  \n",
       "48838  United-States  <=50K  \n",
       "48839  United-States  <=50K  \n",
       "48840  United-States   >50K  \n",
       "\n",
       "[48841 rows x 15 columns]"
      ]
     },
     "metadata": {},
     "output_type": "display_data"
    }
   ],
   "source": [
    "df"
   ]
  },
  {
   "cell_type": "raw",
   "id": "a00b18f2",
   "metadata": {},
   "source": [
    "Replace special character (?) with nulls"
   ]
  },
  {
   "cell_type": "code",
   "execution_count": 6,
   "id": "9d093c98",
   "metadata": {},
   "outputs": [],
   "source": [
    "ad = ad.replace('?', np.NaN)\n"
   ]
  },
  {
   "cell_type": "code",
   "execution_count": 7,
   "id": "8e48181d",
   "metadata": {},
   "outputs": [
    {
     "data": {
      "application/vnd.jupyter.widget-view+json": {
       "model_id": "ab41583cf37f495795036122219f1f92"
      },
      "text/plain": [
       "       age         workclass  fnlwgt  education  education-num  \\\n",
       "0       50  Self-emp-not-inc   83311  Bachelors             13   \n",
       "1       38           Private  215646    HS-grad              9   \n",
       "2       53           Private  234721       11th              7   \n",
       "3       28           Private  338409  Bachelors             13   \n",
       "4       37           Private  284582    Masters             14   \n",
       "...    ...               ...     ...        ...            ...   \n",
       "48836   39           Private  215419  Bachelors             13   \n",
       "48837   64               NaN  321403    HS-grad              9   \n",
       "48838   38           Private  374983  Bachelors             13   \n",
       "48839   44           Private   83891  Bachelors             13   \n",
       "48840   35      Self-emp-inc  182148  Bachelors             13   \n",
       "\n",
       "           marital-status         occupation    relationship  \\\n",
       "0      Married-civ-spouse    Exec-managerial         Husband   \n",
       "1                Divorced  Handlers-cleaners   Not-in-family   \n",
       "2      Married-civ-spouse  Handlers-cleaners         Husband   \n",
       "3      Married-civ-spouse     Prof-specialty            Wife   \n",
       "4      Married-civ-spouse    Exec-managerial            Wife   \n",
       "...                   ...                ...             ...   \n",
       "48836            Divorced     Prof-specialty   Not-in-family   \n",
       "48837             Widowed                NaN  Other-relative   \n",
       "48838  Married-civ-spouse     Prof-specialty         Husband   \n",
       "48839            Divorced       Adm-clerical       Own-child   \n",
       "48840  Married-civ-spouse    Exec-managerial         Husband   \n",
       "\n",
       "                     race     sex  capital-gain  capital-loss  hours-per-week  \\\n",
       "0                   White    Male             0             0              13   \n",
       "1                   White    Male             0             0              40   \n",
       "2                   Black    Male             0             0              40   \n",
       "3                   Black  Female             0             0              40   \n",
       "4                   White  Female             0             0              40   \n",
       "...                   ...     ...           ...           ...             ...   \n",
       "48836               White  Female             0             0              36   \n",
       "48837               Black    Male             0             0              40   \n",
       "48838               White    Male             0             0              50   \n",
       "48839  Asian-Pac-Islander    Male          5455             0              40   \n",
       "48840               White    Male             0             0              60   \n",
       "\n",
       "      native-country Salary  \n",
       "0      United-States  <=50K  \n",
       "1      United-States  <=50K  \n",
       "2      United-States  <=50K  \n",
       "3               Cuba  <=50K  \n",
       "4      United-States  <=50K  \n",
       "...              ...    ...  \n",
       "48836  United-States  <=50K  \n",
       "48837  United-States  <=50K  \n",
       "48838  United-States  <=50K  \n",
       "48839  United-States  <=50K  \n",
       "48840  United-States   >50K  \n",
       "\n",
       "[48841 rows x 15 columns]"
      ]
     },
     "metadata": {},
     "output_type": "display_data"
    }
   ],
   "source": [
    "ad"
   ]
  },
  {
   "cell_type": "markdown",
   "id": "4ef6f232",
   "metadata": {},
   "source": [
    "Drop the missing rows in country"
   ]
  },
  {
   "cell_type": "code",
   "execution_count": 8,
   "id": "4bc2410e",
   "metadata": {},
   "outputs": [],
   "source": [
    "ad = ad.dropna(subset=['native-country'])\n"
   ]
  },
  {
   "cell_type": "code",
   "execution_count": 9,
   "id": "b5ba85c7",
   "metadata": {},
   "outputs": [
    {
     "data": {
      "application/vnd.jupyter.widget-view+json": {
       "model_id": "22426eb2845547da88963ac36e8f6b4f"
      },
      "text/plain": [
       "       age         workclass  fnlwgt  education  education-num  \\\n",
       "0       50  Self-emp-not-inc   83311  Bachelors             13   \n",
       "1       38           Private  215646    HS-grad              9   \n",
       "2       53           Private  234721       11th              7   \n",
       "3       28           Private  338409  Bachelors             13   \n",
       "4       37           Private  284582    Masters             14   \n",
       "...    ...               ...     ...        ...            ...   \n",
       "48836   39           Private  215419  Bachelors             13   \n",
       "48837   64               NaN  321403    HS-grad              9   \n",
       "48838   38           Private  374983  Bachelors             13   \n",
       "48839   44           Private   83891  Bachelors             13   \n",
       "48840   35      Self-emp-inc  182148  Bachelors             13   \n",
       "\n",
       "           marital-status         occupation    relationship  \\\n",
       "0      Married-civ-spouse    Exec-managerial         Husband   \n",
       "1                Divorced  Handlers-cleaners   Not-in-family   \n",
       "2      Married-civ-spouse  Handlers-cleaners         Husband   \n",
       "3      Married-civ-spouse     Prof-specialty            Wife   \n",
       "4      Married-civ-spouse    Exec-managerial            Wife   \n",
       "...                   ...                ...             ...   \n",
       "48836            Divorced     Prof-specialty   Not-in-family   \n",
       "48837             Widowed                NaN  Other-relative   \n",
       "48838  Married-civ-spouse     Prof-specialty         Husband   \n",
       "48839            Divorced       Adm-clerical       Own-child   \n",
       "48840  Married-civ-spouse    Exec-managerial         Husband   \n",
       "\n",
       "                     race     sex  capital-gain  capital-loss  hours-per-week  \\\n",
       "0                   White    Male             0             0              13   \n",
       "1                   White    Male             0             0              40   \n",
       "2                   Black    Male             0             0              40   \n",
       "3                   Black  Female             0             0              40   \n",
       "4                   White  Female             0             0              40   \n",
       "...                   ...     ...           ...           ...             ...   \n",
       "48836               White  Female             0             0              36   \n",
       "48837               Black    Male             0             0              40   \n",
       "48838               White    Male             0             0              50   \n",
       "48839  Asian-Pac-Islander    Male          5455             0              40   \n",
       "48840               White    Male             0             0              60   \n",
       "\n",
       "      native-country Salary  \n",
       "0      United-States  <=50K  \n",
       "1      United-States  <=50K  \n",
       "2      United-States  <=50K  \n",
       "3               Cuba  <=50K  \n",
       "4      United-States  <=50K  \n",
       "...              ...    ...  \n",
       "48836  United-States  <=50K  \n",
       "48837  United-States  <=50K  \n",
       "48838  United-States  <=50K  \n",
       "48839  United-States  <=50K  \n",
       "48840  United-States   >50K  \n",
       "\n",
       "[47984 rows x 15 columns]"
      ]
     },
     "metadata": {},
     "output_type": "display_data"
    }
   ],
   "source": [
    "ad"
   ]
  },
  {
   "cell_type": "markdown",
   "id": "7e417c78",
   "metadata": {},
   "source": [
    "Replace the missing values in workclass and occupation with 'Unknown'"
   ]
  },
  {
   "cell_type": "code",
   "execution_count": 10,
   "id": "c3e83fa9",
   "metadata": {
    "scrolled": true
   },
   "outputs": [
    {
     "data": {
      "application/vnd.jupyter.widget-view+json": {
       "model_id": "f417275f8bce40a5bae51aa63e47ee34"
      },
      "text/plain": [
       "       age         workclass  fnlwgt  education  education-num  \\\n",
       "0       50  Self-emp-not-inc   83311  Bachelors             13   \n",
       "1       38           Private  215646    HS-grad              9   \n",
       "2       53           Private  234721       11th              7   \n",
       "3       28           Private  338409  Bachelors             13   \n",
       "4       37           Private  284582    Masters             14   \n",
       "...    ...               ...     ...        ...            ...   \n",
       "48836   39           Private  215419  Bachelors             13   \n",
       "48837   64           Unknown  321403    HS-grad              9   \n",
       "48838   38           Private  374983  Bachelors             13   \n",
       "48839   44           Private   83891  Bachelors             13   \n",
       "48840   35      Self-emp-inc  182148  Bachelors             13   \n",
       "\n",
       "           marital-status         occupation    relationship  \\\n",
       "0      Married-civ-spouse    Exec-managerial         Husband   \n",
       "1                Divorced  Handlers-cleaners   Not-in-family   \n",
       "2      Married-civ-spouse  Handlers-cleaners         Husband   \n",
       "3      Married-civ-spouse     Prof-specialty            Wife   \n",
       "4      Married-civ-spouse    Exec-managerial            Wife   \n",
       "...                   ...                ...             ...   \n",
       "48836            Divorced     Prof-specialty   Not-in-family   \n",
       "48837             Widowed            Unknown  Other-relative   \n",
       "48838  Married-civ-spouse     Prof-specialty         Husband   \n",
       "48839            Divorced       Adm-clerical       Own-child   \n",
       "48840  Married-civ-spouse    Exec-managerial         Husband   \n",
       "\n",
       "                     race     sex  capital-gain  capital-loss  hours-per-week  \\\n",
       "0                   White    Male             0             0              13   \n",
       "1                   White    Male             0             0              40   \n",
       "2                   Black    Male             0             0              40   \n",
       "3                   Black  Female             0             0              40   \n",
       "4                   White  Female             0             0              40   \n",
       "...                   ...     ...           ...           ...             ...   \n",
       "48836               White  Female             0             0              36   \n",
       "48837               Black    Male             0             0              40   \n",
       "48838               White    Male             0             0              50   \n",
       "48839  Asian-Pac-Islander    Male          5455             0              40   \n",
       "48840               White    Male             0             0              60   \n",
       "\n",
       "      native-country Salary  \n",
       "0      United-States  <=50K  \n",
       "1      United-States  <=50K  \n",
       "2      United-States  <=50K  \n",
       "3               Cuba  <=50K  \n",
       "4      United-States  <=50K  \n",
       "...              ...    ...  \n",
       "48836  United-States  <=50K  \n",
       "48837  United-States  <=50K  \n",
       "48838  United-States  <=50K  \n",
       "48839  United-States  <=50K  \n",
       "48840  United-States   >50K  \n",
       "\n",
       "[47984 rows x 15 columns]"
      ]
     },
     "metadata": {},
     "output_type": "display_data"
    }
   ],
   "source": [
    "ad = ad.fillna(\"Unknown\")\n",
    "ad"
   ]
  },
  {
   "cell_type": "markdown",
   "id": "64676ce0",
   "metadata": {},
   "source": [
    "Convert the column sex,occupation, workclass and Salary into numeric"
   ]
  },
  {
   "cell_type": "code",
   "execution_count": 11,
   "id": "f892f0d1",
   "metadata": {
    "scrolled": true
   },
   "outputs": [
    {
     "data": {
      "application/vnd.jupyter.widget-view+json": {
       "model_id": "1a3c8eca6a134bbaa8c03e1035121be8"
      },
      "text/plain": [
       "       age  workclass  fnlwgt  education  education-num  marital-status  \\\n",
       "0       50          0   83311  Bachelors             13               0   \n",
       "1       38          1  215646    HS-grad              9               1   \n",
       "2       53          1  234721       11th              7               0   \n",
       "3       28          1  338409  Bachelors             13               0   \n",
       "4       37          1  284582    Masters             14               0   \n",
       "...    ...        ...     ...        ...            ...             ...   \n",
       "48836   39          1  215419  Bachelors             13               1   \n",
       "48837   64          5  321403    HS-grad              9               6   \n",
       "48838   38          1  374983  Bachelors             13               0   \n",
       "48839   44          1   83891  Bachelors             13               1   \n",
       "48840   35          6  182148  Bachelors             13               0   \n",
       "\n",
       "       occupation    relationship  race  sex  capital-gain  capital-loss  \\\n",
       "0               0         Husband     0    0             0             0   \n",
       "1               1   Not-in-family     0    0             0             0   \n",
       "2               1         Husband     1    0             0             0   \n",
       "3               2            Wife     1    1             0             0   \n",
       "4               0            Wife     0    1             0             0   \n",
       "...           ...             ...   ...  ...           ...           ...   \n",
       "48836           2   Not-in-family     0    1             0             0   \n",
       "48837          11  Other-relative     1    0             0             0   \n",
       "48838           2         Husband     0    0             0             0   \n",
       "48839           4       Own-child     2    0          5455             0   \n",
       "48840           0         Husband     0    0             0             0   \n",
       "\n",
       "       hours-per-week native-country  Salary  \n",
       "0                  13  United-States       0  \n",
       "1                  40  United-States       0  \n",
       "2                  40  United-States       0  \n",
       "3                  40           Cuba       0  \n",
       "4                  40  United-States       0  \n",
       "...               ...            ...     ...  \n",
       "48836              36  United-States       0  \n",
       "48837              40  United-States       0  \n",
       "48838              50  United-States       0  \n",
       "48839              40  United-States       0  \n",
       "48840              60  United-States       1  \n",
       "\n",
       "[47984 rows x 15 columns]"
      ]
     },
     "metadata": {},
     "output_type": "display_data"
    }
   ],
   "source": [
    "ad['sex'] = pd.factorize(ad['sex'])[0]\n",
    "ad\n",
    "ad['occupation'] = pd.factorize(ad['occupation'])[0]\n",
    "ad['workclass'] = pd.factorize(ad['workclass'])[0]\n",
    "ad['Salary'] = pd.factorize(ad['Salary'])[0]\n",
    "ad['race'] = pd.factorize(ad['race'])[0]\n",
    "ad['marital-status'] = pd.factorize(ad['marital-status'])[0]\n",
    "\n",
    "ad\n",
    "#0 is for male\n",
    "#1 is for female\n",
    "#0 is <= 50K\n",
    "# 1 is > 50K"
   ]
  },
  {
   "cell_type": "markdown",
   "id": "cd6b6b95",
   "metadata": {},
   "source": [
    "Create dependent and independent variables"
   ]
  },
  {
   "cell_type": "code",
   "execution_count": 12,
   "id": "517d3e29",
   "metadata": {},
   "outputs": [],
   "source": [
    "x = ad[['age','education-num','sex','occupation','capital-gain','capital-loss']]\n",
    "y = ad[['Salary']]\n",
    "#y"
   ]
  },
  {
   "cell_type": "markdown",
   "id": "f2b5d26b",
   "metadata": {},
   "source": [
    "Split into test and train. The first classifier has value of k as 5"
   ]
  },
  {
   "cell_type": "code",
   "execution_count": 13,
   "id": "e733bef7",
   "metadata": {},
   "outputs": [
    {
     "data": {
      "text/plain": [
       "KNeighborsClassifier()"
      ]
     },
     "execution_count": 13,
     "metadata": {},
     "output_type": "execute_result"
    }
   ],
   "source": [
    "from sklearn.model_selection import train_test_split\n",
    "x_train, x_test, y_train, y_test = train_test_split(x, y, test_size=0.20)\n",
    "\n",
    "from sklearn.neighbors import KNeighborsClassifier\n",
    "classifier = KNeighborsClassifier(n_neighbors=5)\n",
    "classifier.fit(x_train, y_train)"
   ]
  },
  {
   "cell_type": "markdown",
   "id": "525af92e",
   "metadata": {},
   "source": [
    "Predict the test set"
   ]
  },
  {
   "cell_type": "code",
   "execution_count": 14,
   "id": "dc2a37a1",
   "metadata": {},
   "outputs": [
    {
     "name": "stdout",
     "output_type": "stream",
     "text": [
      "[[6768  618]\n",
      " [ 967 1244]]\n",
      "              precision    recall  f1-score   support\n",
      "\n",
      "           0       0.87      0.92      0.90      7386\n",
      "           1       0.67      0.56      0.61      2211\n",
      "\n",
      "    accuracy                           0.83      9597\n",
      "   macro avg       0.77      0.74      0.75      9597\n",
      "weighted avg       0.83      0.83      0.83      9597\n",
      "\n"
     ]
    }
   ],
   "source": [
    "y_pred = classifier.predict(x_test)\n",
    "from sklearn.metrics import classification_report, confusion_matrix\n",
    "print(confusion_matrix(y_test, y_pred))\n",
    "print(classification_report(y_test, y_pred))"
   ]
  },
  {
   "cell_type": "markdown",
   "id": "2dfca279",
   "metadata": {},
   "source": [
    "knn with k = 10"
   ]
  },
  {
   "cell_type": "code",
   "execution_count": 15,
   "id": "b8f95d65",
   "metadata": {},
   "outputs": [
    {
     "data": {
      "text/plain": [
       "KNeighborsClassifier(n_neighbors=10)"
      ]
     },
     "execution_count": 15,
     "metadata": {},
     "output_type": "execute_result"
    }
   ],
   "source": [
    "from sklearn.model_selection import train_test_split\n",
    "x_train, x_test, y_train, y_test = train_test_split(x, y, test_size=0.20)\n",
    "\n",
    "from sklearn.neighbors import KNeighborsClassifier\n",
    "classifier_10 = KNeighborsClassifier(n_neighbors=10)\n",
    "classifier_10.fit(x_train, y_train)"
   ]
  },
  {
   "cell_type": "code",
   "execution_count": 16,
   "id": "6e2a68cc",
   "metadata": {},
   "outputs": [
    {
     "name": "stdout",
     "output_type": "stream",
     "text": [
      "[[6953  347]\n",
      " [1216 1081]]\n",
      "              precision    recall  f1-score   support\n",
      "\n",
      "           0       0.85      0.95      0.90      7300\n",
      "           1       0.76      0.47      0.58      2297\n",
      "\n",
      "    accuracy                           0.84      9597\n",
      "   macro avg       0.80      0.71      0.74      9597\n",
      "weighted avg       0.83      0.84      0.82      9597\n",
      "\n"
     ]
    }
   ],
   "source": [
    "y_pred_10 = classifier_10.predict(x_test)\n",
    "from sklearn.metrics import classification_report, confusion_matrix\n",
    "print(confusion_matrix(y_test, y_pred_10))\n",
    "print(classification_report(y_test, y_pred_10))"
   ]
  },
  {
   "cell_type": "code",
   "execution_count": 17,
   "id": "5635e99f",
   "metadata": {},
   "outputs": [
    {
     "data": {
      "text/plain": [
       "KNeighborsClassifier(n_neighbors=15)"
      ]
     },
     "execution_count": 17,
     "metadata": {},
     "output_type": "execute_result"
    }
   ],
   "source": [
    "\n",
    "classifier_15 = KNeighborsClassifier(n_neighbors=15)\n",
    "classifier_15.fit(x_train, y_train)"
   ]
  },
  {
   "cell_type": "code",
   "execution_count": 18,
   "id": "8279943d",
   "metadata": {},
   "outputs": [
    {
     "name": "stdout",
     "output_type": "stream",
     "text": [
      "[[6861  439]\n",
      " [1089 1208]]\n",
      "              precision    recall  f1-score   support\n",
      "\n",
      "           0       0.86      0.94      0.90      7300\n",
      "           1       0.73      0.53      0.61      2297\n",
      "\n",
      "    accuracy                           0.84      9597\n",
      "   macro avg       0.80      0.73      0.76      9597\n",
      "weighted avg       0.83      0.84      0.83      9597\n",
      "\n"
     ]
    }
   ],
   "source": [
    "y_pred_15 = classifier_15.predict(x_test)\n",
    "from sklearn.metrics import classification_report, confusion_matrix\n",
    "print(confusion_matrix(y_test, y_pred_15))\n",
    "print(classification_report(y_test, y_pred_15))"
   ]
  },
  {
   "cell_type": "markdown",
   "id": "1751394e",
   "metadata": {},
   "source": [
    "Run KNN for values of k from 1 to 40"
   ]
  },
  {
   "cell_type": "code",
   "execution_count": 19,
   "id": "17986fa5",
   "metadata": {},
   "outputs": [
    {
     "name": "stdout",
     "output_type": "stream",
     "text": [
      "[[6932  368]\n",
      " [1118 1179]]\n",
      "              precision    recall  f1-score   support\n",
      "\n",
      "           0       0.86      0.95      0.90      7300\n",
      "           1       0.76      0.51      0.61      2297\n",
      "\n",
      "    accuracy                           0.85      9597\n",
      "   macro avg       0.81      0.73      0.76      9597\n",
      "weighted avg       0.84      0.85      0.83      9597\n",
      "\n"
     ]
    }
   ],
   "source": [
    "classifier_27 = KNeighborsClassifier(n_neighbors=27)\n",
    "classifier_27.fit(x_train, y_train)\n",
    "y_pred_27 = classifier_27.predict(x_test)\n",
    "from sklearn.metrics import classification_report, confusion_matrix\n",
    "print(confusion_matrix(y_test, y_pred_27))\n",
    "print(classification_report(y_test, y_pred_27))"
   ]
  },
  {
   "cell_type": "code",
   "execution_count": 20,
   "id": "059d5bd7",
   "metadata": {},
   "outputs": [
    {
     "name": "stdout",
     "output_type": "stream",
     "text": [
      "Maximum accuracy:- 0.8478691257684693 at K = 29\n"
     ]
    },
    {
     "data": {
      "image/png": "[encoded data removed]",
      "text/plain": [
       "<Figure size 1000x600 with 1 Axes>"
      ]
     },
     "metadata": {},
     "output_type": "display_data"
    }
   ],
   "source": [
    "acc = []\n",
    "from sklearn import metrics\n",
    "for i in range(1,40):\n",
    "    neigh = KNeighborsClassifier(n_neighbors = i).fit(x_train,y_train)\n",
    "    yhat = neigh.predict(x_test)\n",
    "    acc.append(metrics.accuracy_score(y_test, yhat))\n",
    "    \n",
    "plt.figure(figsize=(10,6))\n",
    "plt.plot(range(1,40),acc,color = 'blue',linestyle='dashed', \n",
    "         marker='o',markerfacecolor='red', markersize=10)\n",
    "plt.title('accuracy vs. K Value')\n",
    "plt.xlabel('K')\n",
    "plt.ylabel('Accuracy')\n",
    "print(\"Maximum accuracy:-\",max(acc),\"at K =\",acc.index(max(acc)))"
   ]
  },
  {
   "cell_type": "code",
   "execution_count": 21,
   "id": "4cb65281",
   "metadata": {},
   "outputs": [
    {
     "name": "stdout",
     "output_type": "stream",
     "text": [
      "[[6898  402]\n",
      " [1114 1183]]\n",
      "              precision    recall  f1-score   support\n",
      "\n",
      "           0       0.86      0.94      0.90      7300\n",
      "           1       0.75      0.52      0.61      2297\n",
      "\n",
      "    accuracy                           0.84      9597\n",
      "   macro avg       0.80      0.73      0.76      9597\n",
      "weighted avg       0.83      0.84      0.83      9597\n",
      "\n"
     ]
    }
   ],
   "source": [
    "classifier_21 = KNeighborsClassifier(n_neighbors=21)\n",
    "classifier_21.fit(x_train, y_train)\n",
    "y_pred_21 = classifier_21.predict(x_test)\n",
    "from sklearn.metrics import classification_report, confusion_matrix\n",
    "print(confusion_matrix(y_test, y_pred_21))\n",
    "print(classification_report(y_test, y_pred_21))"
   ]
  },
  {
   "cell_type": "markdown",
   "id": "8f19701b",
   "metadata": {},
   "source": [
    "Create a new KNN with different predictor variables"
   ]
  },
  {
   "cell_type": "code",
   "execution_count": null,
   "id": "d1d43739",
   "metadata": {},
   "outputs": [],
   "source": [
    "x1 = ad[['age','education-num','sex','occupation','capital-gain','capital-loss','race','marital-status']]\n",
    "y1 = ad[['Salary']]\n",
    "from sklearn.model_selection import train_test_split\n",
    "x1_train, x1_test, y1_train, y1_test = train_test_split(x1, y1, test_size=0.20)"
   ]
  },
  {
   "cell_type": "markdown",
   "id": "49b1a102",
   "metadata": {},
   "source": [
    "Find accuracy for k from 1 to 40"
   ]
  },
  {
   "cell_type": "code",
   "execution_count": 24,
   "id": "f09c24c1",
   "metadata": {
    "scrolled": true
   },
   "outputs": [
    {
     "name": "stdout",
     "output_type": "stream",
     "text": [
      "Maximum accuracy:- 0.8623528185891425 at K = 19\n"
     ]
    },
    {
     "data": {
      "image/png": "[encoded data removed]",
      "text/plain": [
       "<Figure size 1000x600 with 1 Axes>"
      ]
     },
     "metadata": {},
     "output_type": "display_data"
    }
   ],
   "source": [
    "accu = []\n",
    "from sklearn import metrics\n",
    "for i in range(1,40):\n",
    "    neigh = KNeighborsClassifier(n_neighbors = i).fit(x1_train,y1_train)\n",
    "    yhat = neigh.predict(x1_test)\n",
    "    accu.append(metrics.accuracy_score(y1_test, yhat))\n",
    "    \n",
    "plt.figure(figsize=(10,6))\n",
    "plt.plot(range(1,40),accu,color = 'blue',linestyle='dashed', \n",
    "         marker='o',markerfacecolor='red', markersize=10)\n",
    "plt.title('accuracy vs. K Value')\n",
    "plt.xlabel('K')\n",
    "plt.ylabel('Accuracy')\n",
    "print(\"Maximum accuracy:-\",max(accu),\"at K =\",accu.index(max(accu)))"
   ]
  },
  {
   "cell_type": "code",
   "execution_count": 27,
   "id": "8d37b577",
   "metadata": {},
   "outputs": [
    {
     "name": "stdout",
     "output_type": "stream",
     "text": [
      "[[6797  500]\n",
      " [ 871 1429]]\n",
      "              precision    recall  f1-score   support\n",
      "\n",
      "           0       0.89      0.93      0.91      7297\n",
      "           1       0.74      0.62      0.68      2300\n",
      "\n",
      "    accuracy                           0.86      9597\n",
      "   macro avg       0.81      0.78      0.79      9597\n",
      "weighted avg       0.85      0.86      0.85      9597\n",
      "\n"
     ]
    }
   ],
   "source": [
    "classifier_15 = KNeighborsClassifier(n_neighbors=15)\n",
    "classifier_15.fit(x1_train, y1_train)\n",
    "y_pred_15 = classifier_15.predict(x1_test)\n",
    "from sklearn.metrics import classification_report, confusion_matrix\n",
    "print(confusion_matrix(y1_test, y_pred_15))\n",
    "print(classification_report(y1_test, y_pred_15))\n"
   ]
  },
  {
   "cell_type": "code",
   "execution_count": 26,
   "id": "23b94068",
   "metadata": {},
   "outputs": [
    {
     "name": "stdout",
     "output_type": "stream",
     "text": [
      "[[6841  456]\n",
      " [ 891 1409]]\n",
      "              precision    recall  f1-score   support\n",
      "\n",
      "           0       0.88      0.94      0.91      7297\n",
      "           1       0.76      0.61      0.68      2300\n",
      "\n",
      "    accuracy                           0.86      9597\n",
      "   macro avg       0.82      0.78      0.79      9597\n",
      "weighted avg       0.85      0.86      0.85      9597\n",
      "\n"
     ]
    }
   ],
   "source": [
    "classifier_27 = KNeighborsClassifier(n_neighbors=27)\n",
    "classifier_27.fit(x1_train, y1_train)\n",
    "y_pred_27 = classifier_27.predict(x1_test)\n",
    "from sklearn.metrics import classification_report, confusion_matrix\n",
    "print(confusion_matrix(y1_test, y_pred_27))\n",
    "print(classification_report(y1_test, y_pred_27))\n",
    "\n"
   ]
  },
  {
   "cell_type": "code",
   "execution_count": 28,
   "id": "95685b7c",
   "metadata": {},
   "outputs": [
    {
     "name": "stdout",
     "output_type": "stream",
     "text": [
      "[[6850  447]\n",
      " [ 911 1389]]\n",
      "              precision    recall  f1-score   support\n",
      "\n",
      "           0       0.88      0.94      0.91      7297\n",
      "           1       0.76      0.60      0.67      2300\n",
      "\n",
      "    accuracy                           0.86      9597\n",
      "   macro avg       0.82      0.77      0.79      9597\n",
      "weighted avg       0.85      0.86      0.85      9597\n",
      "\n"
     ]
    }
   ],
   "source": [
    "classifier_37 = KNeighborsClassifier(n_neighbors=33)\n",
    "classifier_37.fit(x1_train, y1_train)\n",
    "y_pred_37 = classifier_37.predict(x1_test)\n",
    "from sklearn.metrics import classification_report, confusion_matrix\n",
    "print(confusion_matrix(y1_test, y_pred_37))\n",
    "print(classification_report(y1_test, y_pred_37))\n"
   ]
  },
  {
   "cell_type": "code",
   "execution_count": null,
   "id": "9d5d3c90",
   "metadata": {},
   "outputs": [],
   "source": []
  }
 ],
 "metadata": {
  "kernelspec": {
   "display_name": "Python 3 (ipykernel)",
   "language": "python",
   "name": "python3"
  },
  "language_info": {
   "codemirror_mode": {
    "name": "ipython",
    "version": 3
   },
   "file_extension": ".py",
   "mimetype": "text/x-python",
   "name": "python",
   "nbconvert_exporter": "python",
   "pygments_lexer": "ipython3",
   "version": "3.9.13"
  }
 },
 "nbformat": 4,
 "nbformat_minor": 5
}
